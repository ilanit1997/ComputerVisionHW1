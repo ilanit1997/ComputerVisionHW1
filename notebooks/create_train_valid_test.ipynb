{
 "cells": [
  {
   "cell_type": "code",
   "execution_count": 1,
   "id": "e1fb5a0c",
   "metadata": {},
   "outputs": [],
   "source": [
    "import numpy as np\n",
    "import pandas as pd\n",
    "import matplotlib.pyplot as plt\n",
    "import os\n",
    "import re\n",
    "import shutil"
   ]
  },
  {
   "cell_type": "code",
   "execution_count": 3,
   "id": "1029793e",
   "metadata": {},
   "outputs": [
    {
     "data": {
      "text/plain": [
       "'C:\\\\Users\\\\dovid\\\\PycharmProjects\\\\CV_hw1'"
      ]
     },
     "execution_count": 3,
     "metadata": {},
     "output_type": "execute_result"
    }
   ],
   "source": [
    "os.getcwd()"
   ]
  },
  {
   "cell_type": "code",
   "execution_count": 2,
   "id": "22cfa35d",
   "metadata": {},
   "outputs": [],
   "source": [
    "data_dir = 'C:\\\\Users\\\\dovid\\\\PycharmProjects\\\\CV_hw1_old\\\\HW1_dataset\\\\HW1_dataset'"
   ]
  },
  {
   "cell_type": "code",
   "execution_count": 3,
   "id": "70ed2562",
   "metadata": {},
   "outputs": [],
   "source": [
    "with open(os.path.join(data_dir, 'train.txt')) as f:\n",
    "    train_files = f.read().splitlines() \n",
    "with open(os.path.join(data_dir, 'valid.txt')) as f:\n",
    "    valid_files = f.read().splitlines() \n",
    "with open(os.path.join(data_dir, 'test.txt')) as f:\n",
    "    test_files = f.read().splitlines() "
   ]
  },
  {
   "cell_type": "code",
   "execution_count": 4,
   "id": "d65966c9",
   "metadata": {},
   "outputs": [
    {
     "data": {
      "text/plain": [
       "['P016_balloon1_1770.jpg',\n",
       " 'P016_balloon1_1800.jpg',\n",
       " 'P016_balloon1_1829.jpg',\n",
       " 'P016_balloon1_1920.jpg',\n",
       " 'P016_balloon1_2045.jpg',\n",
       " 'P016_balloon1_3881.jpg',\n",
       " 'P017_balloon1_1131.jpg',\n",
       " 'P017_balloon1_1429.jpg',\n",
       " 'P017_balloon1_1460.jpg',\n",
       " 'P017_balloon1_1507.jpg',\n",
       " 'P017_balloon1_1767.jpg',\n",
       " 'P017_balloon1_2057.jpg',\n",
       " 'P017_balloon1_2721.jpg',\n",
       " 'P017_balloon1_3173.jpg',\n",
       " 'P019_balloon1_1005.jpg',\n",
       " 'P019_balloon1_1563.jpg',\n",
       " 'P019_balloon1_2624.jpg',\n",
       " 'P019_balloon1_2907.jpg',\n",
       " 'P019_balloon1_3001.jpg',\n",
       " 'P019_balloon1_403.jpg',\n",
       " 'P019_balloon1_4209.jpg',\n",
       " 'P019_balloon1_427.jpg',\n",
       " 'P019_balloon1_621.jpg',\n",
       " 'P019_balloon1_664.jpg',\n",
       " 'P020_balloon1_1111.jpg',\n",
       " 'P020_balloon1_2304.jpg',\n",
       " 'P020_balloon1_245.jpg',\n",
       " 'P020_balloon1_2639.jpg',\n",
       " 'P020_balloon1_2698.jpg',\n",
       " 'P020_balloon1_302.jpg',\n",
       " 'P020_balloon1_3436.jpg',\n",
       " 'P020_balloon1_4235.jpg',\n",
       " 'P020_balloon1_5264.jpg',\n",
       " 'P020_balloon1_5444.jpg',\n",
       " 'P020_balloon1_6353.jpg',\n",
       " 'P022_balloon1_1406.jpg',\n",
       " 'P022_balloon1_1674.jpg',\n",
       " 'P022_balloon1_2308.jpg',\n",
       " 'P022_balloon1_2423.jpg',\n",
       " 'P022_balloon1_269.jpg',\n",
       " 'P022_balloon1_2985.jpg',\n",
       " 'P022_balloon1_3409.jpg',\n",
       " 'P022_balloon1_5249.jpg',\n",
       " 'P024_balloon1_1367.jpg',\n",
       " 'P024_balloon1_2259.jpg',\n",
       " 'P024_balloon1_2931.jpg',\n",
       " 'P024_balloon1_3565.jpg',\n",
       " 'P024_balloon1_4660.jpg',\n",
       " 'P024_balloon1_541.jpg',\n",
       " 'P024_balloon1_6482.jpg',\n",
       " 'P024_balloon1_6509.jpg',\n",
       " 'P024_balloon1_6521.jpg',\n",
       " 'P025_balloon1_1059.jpg',\n",
       " 'P025_balloon1_1679.jpg',\n",
       " 'P025_balloon1_2071.jpg',\n",
       " 'P025_balloon1_2187.jpg',\n",
       " 'P025_balloon1_2236.jpg',\n",
       " 'P025_balloon1_2366.jpg',\n",
       " 'P025_balloon1_3768.jpg',\n",
       " 'P025_balloon1_4304.jpg',\n",
       " 'P025_balloon1_4464.jpg',\n",
       " 'P025_balloon1_4969.jpg',\n",
       " 'P025_balloon1_602.jpg',\n",
       " 'P025_balloon1_977.jpg',\n",
       " 'P026_balloon1_1162.jpg',\n",
       " 'P026_balloon1_3293.jpg',\n",
       " 'P026_balloon1_406.jpg',\n",
       " 'P026_balloon1_4485.jpg',\n",
       " 'P026_balloon1_4621.jpg',\n",
       " 'P026_balloon1_5691.jpg',\n",
       " 'P026_balloon1_6127.jpg',\n",
       " 'P026_balloon1_7335.jpg',\n",
       " 'P026_balloon1_9490.jpg',\n",
       " 'P026_balloon1_9623.jpg',\n",
       " 'P027_balloon1_1784.jpg',\n",
       " 'P027_balloon1_2681.jpg',\n",
       " 'P027_balloon1_3120.jpg',\n",
       " 'P027_balloon1_4324.jpg',\n",
       " 'P027_balloon1_4655.jpg',\n",
       " 'P027_balloon1_5246.jpg',\n",
       " 'P027_balloon1_629.jpg',\n",
       " 'P030_balloon1_2044.jpg',\n",
       " 'P030_balloon1_343.jpg',\n",
       " 'P030_balloon1_4095.jpg',\n",
       " 'P030_balloon1_4481.jpg',\n",
       " 'P030_balloon1_5453.jpg',\n",
       " 'P030_balloon1_6053.jpg',\n",
       " 'P030_balloon1_7033.jpg',\n",
       " 'P033_balloon1_3386.jpg',\n",
       " 'P033_balloon1_3865.jpg',\n",
       " 'P033_balloon1_3934.jpg',\n",
       " 'P033_balloon1_3977.jpg',\n",
       " 'P033_balloon1_4645.jpg',\n",
       " 'P033_balloon1_5065.jpg',\n",
       " 'P033_balloon1_5106.jpg',\n",
       " 'P033_balloon1_5228.jpg',\n",
       " 'P033_balloon1_5765.jpg',\n",
       " 'P033_balloon1_5797.jpg',\n",
       " 'P033_balloon1_5882.jpg',\n",
       " 'P033_balloon1_6231.jpg',\n",
       " 'P035_balloon1_1331.jpg',\n",
       " 'P035_balloon1_1332.jpg',\n",
       " 'P035_balloon1_1609.jpg',\n",
       " 'P035_balloon1_1667.jpg',\n",
       " 'P035_balloon1_1745.jpg',\n",
       " 'P035_balloon1_2820.jpg',\n",
       " 'P035_balloon1_339.jpg',\n",
       " 'P035_balloon1_3495.jpg',\n",
       " 'P035_balloon1_420.jpg',\n",
       " 'P035_balloon1_483.jpg',\n",
       " 'P036_balloon1_1041.jpg',\n",
       " 'P036_balloon1_1948.jpg',\n",
       " 'P036_balloon1_3178.jpg',\n",
       " 'P036_balloon1_4052.jpg',\n",
       " 'P036_balloon1_479.jpg',\n",
       " 'P036_balloon1_4820.jpg',\n",
       " 'P038_balloon1_1109.jpg',\n",
       " 'P038_balloon1_1367.jpg',\n",
       " 'P038_balloon1_1511.jpg',\n",
       " 'P038_balloon1_1767.jpg',\n",
       " 'P038_balloon1_3770.jpg',\n",
       " 'P038_balloon1_3786.jpg',\n",
       " 'P038_balloon1_503.jpg',\n",
       " 'P038_balloon1_97.jpg',\n",
       " 'P040_balloon1_1194.jpg',\n",
       " 'P040_balloon1_1375.jpg',\n",
       " 'P040_balloon1_203.jpg',\n",
       " 'P040_balloon1_2672.jpg',\n",
       " 'P040_balloon1_288.jpg',\n",
       " 'P040_balloon1_326.jpg',\n",
       " 'P040_balloon1_804.jpg',\n",
       " 'P040_balloon1_923.jpg']"
      ]
     },
     "execution_count": 4,
     "metadata": {},
     "output_type": "execute_result"
    }
   ],
   "source": [
    "sorted(valid_files)"
   ]
  },
  {
   "cell_type": "markdown",
   "id": "48735be4",
   "metadata": {},
   "source": [
    "For images"
   ]
  },
  {
   "cell_type": "code",
   "execution_count": 31,
   "id": "dbdcd855",
   "metadata": {},
   "outputs": [
    {
     "name": "stdout",
     "output_type": "stream",
     "text": [
      "0 files not found out of 199\n"
     ]
    }
   ],
   "source": [
    "original_dir = os.path.join(data_dir, 'images')\n",
    "train_dir = os.path.join(data_dir, 'train')\n",
    "isExist = os.path.exists(train_dir)\n",
    "if not isExist:\n",
    "    os.makedirs(train_dir)\n",
    "count_not_found = 0\n",
    "for f in train_files:\n",
    "    \n",
    "    if not os.path.exists(os.path.join(original_dir, f)):\n",
    "        count_not_found += 1\n",
    "        continue\n",
    "    if not os.path.exists(os.path.join(os.path.join(train_dir, f))):\n",
    "        shutil.copyfile(os.path.join(original_dir, f), os.path.join(train_dir, f))\n",
    "print(str(count_not_found) + \" files not found out of \" + str(len(train_files)))\n",
    "    \n",
    "valid_dir = os.path.join(data_dir, 'valid')\n",
    "isExist = os.path.exists(valid_dir)\n",
    "if not isExist:\n",
    "    os.makedirs(valid_dir)\n",
    "count_not_found = 0\n",
    "for f in valid_files:\n",
    "    if not os.path.exists(os.path.join(os.path.join(valid_dir, f))):\n",
    "        shutil.copyfile(os.path.join(os.path.join(original_dir, f)), os.path.join(os.path.join(valid_dir, f)))\n",
    "print(str(count_not_found) + \" files not found out of \" + str(len(valid_files)))\n",
    "        \n",
    "test_dir = os.path.join(data_dir, 'test')\n",
    "isExist = os.path.exists(test_dir)\n",
    "if not isExist:\n",
    "    os.makedirs(test_dir)\n",
    "count_not_found = 0\n",
    "for f in test_files:\n",
    "    if not os.path.exists(os.path.join(os.path.join(test_dir, f))):\n",
    "        shutil.copyfile(os.path.join(os.path.join(original_dir, f)), os.path.join(os.path.join(test_dir, f)))\n",
    "print(str(count_not_found) + \" files not found out of \" + str(len(test_files)))"
   ]
  },
  {
   "cell_type": "markdown",
   "id": "13c4316c",
   "metadata": {},
   "source": [
    "For labels"
   ]
  },
  {
   "cell_type": "code",
   "execution_count": 8,
   "id": "73389c5e",
   "metadata": {},
   "outputs": [
    {
     "name": "stdout",
     "output_type": "stream",
     "text": [
      "0 files not found out of 790\n",
      "0 files not found out of 132\n",
      "0 files not found out of 199\n"
     ]
    }
   ],
   "source": [
    "original_dir = os.path.join(data_dir, 'bboxes_labels')\n",
    "train_dir = os.path.join(data_dir, 'train_labels')\n",
    "isExist = os.path.exists(train_dir)\n",
    "if not isExist:\n",
    "    os.makedirs(train_dir)\n",
    "count_not_found = 0\n",
    "for f in train_files:\n",
    "    txt_f = f[:-3] + 'txt'\n",
    "    if not os.path.exists(os.path.join(original_dir, txt_f)):\n",
    "        count_not_found += 1\n",
    "        continue\n",
    "    if not os.path.exists(os.path.join(os.path.join(train_dir, txt_f))):\n",
    "        shutil.copyfile(os.path.join(original_dir, txt_f), os.path.join(train_dir, txt_f))\n",
    "print(str(count_not_found) + \" files not found out of \" + str(len(train_files)))\n",
    "    \n",
    "valid_dir = os.path.join(data_dir, 'valid_labels')\n",
    "isExist = os.path.exists(valid_dir)\n",
    "if not isExist:\n",
    "    os.makedirs(valid_dir)\n",
    "count_not_found = 0\n",
    "for f in valid_files:\n",
    "    txt_f = f[:-3] + 'txt'\n",
    "    if not os.path.exists(os.path.join(original_dir, txt_f)):\n",
    "        count_not_found += 1\n",
    "        continue\n",
    "    if not os.path.exists(os.path.join(os.path.join(valid_dir, txt_f))):\n",
    "        shutil.copyfile(os.path.join(original_dir, txt_f), os.path.join(valid_dir, txt_f))\n",
    "print(str(count_not_found) + \" files not found out of \" + str(len(valid_files)))\n",
    "        \n",
    "test_dir = os.path.join(data_dir, 'test_labels')\n",
    "isExist = os.path.exists(test_dir)\n",
    "if not isExist:\n",
    "    os.makedirs(test_dir)\n",
    "count_not_found = 0\n",
    "for f in test_files:\n",
    "    txt_f = f[:-3] + 'txt'\n",
    "    if not os.path.exists(os.path.join(original_dir, txt_f)):\n",
    "        count_not_found += 1\n",
    "        continue\n",
    "    if not os.path.exists(os.path.join(os.path.join(test_dir, txt_f))):\n",
    "        shutil.copyfile(os.path.join(original_dir, txt_f), os.path.join(test_dir, txt_f))\n",
    "print(str(count_not_found) + \" files not found out of \" + str(len(test_files)))"
   ]
  }
 ],
 "metadata": {
  "kernelspec": {
   "display_name": "Python 3 (ipykernel)",
   "language": "python",
   "name": "python3"
  },
  "language_info": {
   "codemirror_mode": {
    "name": "ipython",
    "version": 3
   },
   "file_extension": ".py",
   "mimetype": "text/x-python",
   "name": "python",
   "nbconvert_exporter": "python",
   "pygments_lexer": "ipython3",
   "version": "3.9.12"
  }
 },
 "nbformat": 4,
 "nbformat_minor": 5
}
